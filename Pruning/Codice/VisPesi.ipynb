{
 "cells": [
  {
   "cell_type": "code",
   "execution_count": 2,
   "metadata": {},
   "outputs": [],
   "source": [
    "import torch\n",
    "import pandas as pd\n",
    "import matplotlib.pyplot as plt"
   ]
  },
  {
   "cell_type": "code",
   "execution_count": 4,
   "metadata": {},
   "outputs": [
    {
     "name": "stdout",
     "output_type": "stream",
     "text": [
      "lvl 0: media num. collegamenti a 0: 368357.8, media 93.97% di zeri\n",
      "lvl 2: media num. collegamenti a 0: 135606.4, media 90.40% di zeri\n",
      "lvl 4: media num. collegamenti a 0: 24442.6, media 81.48% di zeri\n",
      "lvl 6: media num. collegamenti a 0: 637.0, media 63.70% di zeri\n"
     ]
    }
   ],
   "source": [
    "device = torch.device('cuda' if torch.cuda.is_available() else 'cpu')\n",
    "\n",
    "# Lista dei nomi dei file dei modelli\n",
    "model_files = [f'pruned_model{i}.pth' for i in range(1, 11)]\n",
    "\n",
    "# Lista dei livelli dei layer da analizzare\n",
    "levels = [0, 2, 4, 6]\n",
    "\n",
    "# Dizionario per accumulare i risultati\n",
    "results = {level: {'num_zeri': [], 'perc_zeri': []} for level in levels}\n",
    "\n",
    "for model_file in model_files:\n",
    "    it1 = torch.load(model_file, map_location=device)\n",
    "    \n",
    "    for level in levels:\n",
    "        weights = it1[f'classifier.{level}.weight']\n",
    "        weights_df = pd.DataFrame(weights.numpy())\n",
    "\n",
    "        num_zeri = (weights_df == 0).sum().sum()\n",
    "        total_param = weights_df.size\n",
    "        \n",
    "        perc_zeri = (num_zeri / total_param) * 100\n",
    "\n",
    "        results[level]['num_zeri'].append(num_zeri)\n",
    "        results[level]['perc_zeri'].append(perc_zeri)\n",
    "\n",
    "# Calcolare la media dei risultati per ogni livello\n",
    "for level in levels:\n",
    "    avg_num_zeri = sum(results[level]['num_zeri']) / len(results[level]['num_zeri'])\n",
    "    avg_perc_zeri = sum(results[level]['perc_zeri']) / len(results[level]['perc_zeri'])\n",
    "    \n",
    "    print(f'lvl {level}: media num. collegamenti a 0: {avg_num_zeri}, media {avg_perc_zeri:.2f}% di zeri')\n"
   ]
  }
 ],
 "metadata": {
  "kernelspec": {
   "display_name": "Python 3",
   "language": "python",
   "name": "python3"
  },
  "language_info": {
   "codemirror_mode": {
    "name": "ipython",
    "version": 3
   },
   "file_extension": ".py",
   "mimetype": "text/x-python",
   "name": "python",
   "nbconvert_exporter": "python",
   "pygments_lexer": "ipython3",
   "version": "3.12.2"
  }
 },
 "nbformat": 4,
 "nbformat_minor": 2
}
